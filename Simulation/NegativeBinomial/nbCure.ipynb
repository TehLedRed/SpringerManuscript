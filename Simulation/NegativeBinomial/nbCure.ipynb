{
  "nbformat": 4,
  "nbformat_minor": 0,
  "metadata": {
    "colab": {
      "provenance": [],
      "authorship_tag": "ABX9TyPbD7OX2ZVsur0PO7dfKJKn"
    },
    "kernelspec": {
      "name": "python3",
      "display_name": "Python 3"
    },
    "language_info": {
      "name": "python"
    }
  },
  "cells": [
    {
      "cell_type": "code",
      "execution_count": null,
      "metadata": {
        "id": "NwZJQpT9R5QQ"
      },
      "outputs": [],
      "source": [
        "import numpy as np\n",
        "import tensorflow as tf\n",
        "import math\n",
        "import pandas as pd"
      ]
    },
    {
      "cell_type": "markdown",
      "source": [
        "Estimate $\\mathbb {\\alpha}$\n",
        "$$\n",
        "\\alpha = \\frac{ \\displaystyle \\sum_{ s_{g-1} < t_i \\leq s_g } \\delta_i }{\\displaystyle \\sum_{s_{g-1}<t_i \\leq s_g} m_i\\left(t_i-s_{g-1}\\right)+\n",
        " \\displaystyle\\sum_{t_i>s_g} m_i\\left(s_g-s_{g-1}\\right)}\n",
        "$$"
      ],
      "metadata": {
        "id": "xNcSdn-bUlZM"
      }
    },
    {
      "cell_type": "code",
      "source": [
        "def calc_mat(data):\n",
        "    '''\n",
        "    Returns two matrices to be used later in alpha estimation, each matrix's\n",
        "    shape equals to (#of indivuals x 5) as g = 5.\n",
        "    '''\n",
        "    t = data['t'].values[np.where(data['delta'].values == 1)]\n",
        "    g = np.quantile(t, [0, 0.2, 0.4, 0.6, 0.8, 1])\n",
        "    g[-1] = data['t'].values.max()\n",
        "    t1 = data['t'].values.reshape(-1,1) - g[:-1]\n",
        "    t2 = g[1:] - g[:-1]\n",
        "\n",
        "    indicator2 = data['t'].values.reshape(-1,1) > g[1:]\n",
        "    cat = tf.reduce_sum(tf.cast(indicator2, dtype=tf.float32), axis=1)\n",
        "    indicator1 = tf.one_hot(tf.cast(cat, dtype=tf.int32), depth=5)\n",
        "\n",
        "    num = indicator1\n",
        "    denom = tf.add(indicator1*t1, indicator2*t2)\n",
        "\n",
        "    return num, denom\n",
        "\n",
        "# @tf.function\n",
        "def calc_alpha(m, delta, matNum, matDenom):\n",
        "  '''\n",
        "  Returns estimated alpha vector with shape (5 x 1)\n",
        "  '''\n",
        "  num = tf.reduce_sum(matNum*delta, axis = 0)\n",
        "  denom = tf.reduce_sum(matDenom*m, axis = 0)\n",
        "\n",
        "  return tf.expand_dims(tf.divide(num, denom), 1)"
      ],
      "metadata": {
        "id": "8RkszDDGSX_C"
      },
      "execution_count": null,
      "outputs": []
    },
    {
      "cell_type": "markdown",
      "source": [
        "$$\n",
        "S_1(t ; \\boldsymbol{\\alpha})=1-\\exp \\left\\{-\\alpha_g\\left(t-s_{g-1}\\right)-\\sum_{j=1}^{g-1} \\alpha_j\\left(s_j-s_{j-1}\\right)\\right\\}, \\text{in which}~ t \\in\\left(s_{g-1}, s_g\\right]\n",
        "$$"
      ],
      "metadata": {
        "id": "KjRPmuuqUquy"
      }
    },
    {
      "cell_type": "code",
      "source": [
        "# @tf.function\n",
        "def calc_S1(alpha, matDenom): #indicator1, indicator2):\n",
        "  '''\n",
        "  Returns estimated S1 vector with shape (# of individuals x 1)\n",
        "  '''\n",
        "  x = tf.math.exp(-(matDenom @ alpha))\n",
        "  return tf.clip_by_value(x, np.finfo(float).eps, 1.0)\n",
        "\n",
        "def calc_f1(indicator1, alpha, S):\n",
        "    '''\n",
        "    Calculate f1\n",
        "    '''\n",
        "    f1 =  (indicator1 @ alpha)*S\n",
        "    return tf.clip_by_value(f1, np.finfo(float).eps, 1.0)"
      ],
      "metadata": {
        "id": "Bc88G2KtQRom"
      },
      "execution_count": null,
      "outputs": []
    },
    {
      "cell_type": "markdown",
      "source": [
        "# Negative binomial"
      ],
      "metadata": {
        "id": "MUNvu4FeQXOa"
      }
    },
    {
      "cell_type": "code",
      "source": [
        "def observedLL(eta, F1, f1, phi, delta):\n",
        "    '''\n",
        "    Calculate observed data likelifood\n",
        "    '''\n",
        "    theta = np.exp(eta)\n",
        "    term = 1.0/ (1.0 + phi*theta*F1)\n",
        "    Sp = term**(1/phi)\n",
        "    pw = (1/phi) + 1\n",
        "    fp = theta*f1*(term**(pw))\n",
        "\n",
        "    return np.sum(delta*np.log(fp) + (1 - delta)*np.log(Sp))\n"
      ],
      "metadata": {
        "id": "3Gmp3gBUSb8M"
      },
      "execution_count": null,
      "outputs": []
    },
    {
      "cell_type": "code",
      "source": [
        "# @tf.function\n",
        "def calcM(delta, phi, theta, S1):\n",
        "  F1 = 1. - S1\n",
        "  term = tf.divide((1.0 + (phi*delta))*theta*S1, 1.0 + (phi*theta*F1))\n",
        "  return tf.add(delta, term)\n",
        "\n",
        "# @tf.function\n",
        "def calcL1(mi, phi, eta):\n",
        "  phiI = 1./phi\n",
        "  theta = tf.math.exp(eta)\n",
        "  term = mi*tf.math.log((phi*theta) / (1.0 + (phi*theta))) - phiI*tf.math.log(1.0 + (phi*theta))\n",
        "  return -tf.reduce_mean(term)"
      ],
      "metadata": {
        "id": "DcOr6Im6Shb3"
      },
      "execution_count": null,
      "outputs": []
    },
    {
      "cell_type": "code",
      "source": [
        "def calcNBL1(mi, phi, eta):\n",
        "  phiI = (1./phi)#.astype('float32')\n",
        "  theta = tf.math.exp(eta)\n",
        "  term = tf.math.lgamma(mi + phiI) - tf.math.lgamma(phiI) + mi*tf.math.log(phi*theta) - mi*tf.math.log(1 + phi*theta) - (1/phi)*tf.math.log(1 + phi*theta)\n",
        "  return -tf.reduce_mean(term)"
      ],
      "metadata": {
        "id": "77S5om4v9k04"
      },
      "execution_count": null,
      "outputs": []
    },
    {
      "cell_type": "markdown",
      "source": [
        "# Poisson-Gamma mixture"
      ],
      "metadata": {
        "id": "EptcKVCVPsrO"
      }
    },
    {
      "cell_type": "code",
      "source": [
        "@tf.function\n",
        "def calcY(phi, delta, theta, S1):\n",
        "  F1 = 1. - S1\n",
        "  return tf.divide((1.0 + (phi*delta))*theta, 1.0 + (phi*theta*F1))\n",
        "\n",
        "@tf.function\n",
        "def calcLogY(phi, delta, theta, S1):\n",
        "  F1 = 1. - S1\n",
        "  return tf.math.digamma((1./phi) + delta) + tf.math.log(phi*theta) - tf.math.log(1. + (phi*theta*F1))\n",
        "\n",
        "\n",
        "# @tf.function\n",
        "def calcNB2L1(phi, logY, theta, yi):\n",
        "  phiI = 1./phi\n",
        "  term = phiI*(logY - tf.math.log(theta) - tf.math.log(phi) - (yi/theta)) - tf.math.lgamma(phiI)\n",
        "  return -tf.reduce_sum(term)"
      ],
      "metadata": {
        "id": "vFT3abEVPzsN"
      },
      "execution_count": null,
      "outputs": []
    }
  ]
}