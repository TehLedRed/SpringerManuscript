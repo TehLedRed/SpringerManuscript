{
  "nbformat": 4,
  "nbformat_minor": 0,
  "metadata": {
    "colab": {
      "provenance": [],
      "authorship_tag": "ABX9TyMxka8g3sHoYoK932P/OjIb",
      "include_colab_link": true
    },
    "kernelspec": {
      "name": "python3",
      "display_name": "Python 3"
    },
    "language_info": {
      "name": "python"
    }
  },
  "cells": [
    {
      "cell_type": "markdown",
      "metadata": {
        "id": "view-in-github",
        "colab_type": "text"
      },
      "source": [
        "<a href=\"https://colab.research.google.com/github/TehLedRed/SpringerManuscript/blob/main/Simulation/NegativeBinomial/generateData.ipynb\" target=\"_parent\"><img src=\"https://colab.research.google.com/assets/colab-badge.svg\" alt=\"Open In Colab\"/></a>"
      ]
    },
    {
      "cell_type": "code",
      "execution_count": null,
      "metadata": {
        "id": "uIoUpSRqD9VQ"
      },
      "outputs": [],
      "source": [
        "import numpy as np\n",
        "import pandas as pd\n",
        "import matplotlib.pyplot as plt\n",
        "\n",
        "def convertTheta__(x, theta): # = [0.1, 0.8, 1.5, 2.0, 2.5]\n",
        "    if   x == 0:   return theta[0]\n",
        "    elif x == 1:   return theta[1]\n",
        "    elif x == 2:   return theta[2]\n",
        "    elif x == 3:   return theta[3]\n",
        "    else:          return theta[4]\n",
        "\n",
        "def theta__(x, theta):\n",
        "  f = lambda x: convertTheta__(x, theta)\n",
        "  return np.vectorize(f)(x)\n",
        "\n",
        "# theta__ = np.vectorize(convertTheta__, otypes=[float])\n",
        "\n",
        "def samplingImg(labels, n, p1 = 0.1):\n",
        "\n",
        "  i_1 = np.where(labels == 0)[0]\n",
        "  i_2 = np.where(np.isin(labels, range(1,5)))[0]\n",
        "\n",
        "  sample1 = np.random.choice(i_1, int(np.floor(n*p1)), replace=False)\n",
        "  sample2 = np.random.choice(i_2, int(np.floor(n*(1-p1))), replace=False)\n",
        "\n",
        "  index = np.concatenate((sample1, sample2)).astype(int)\n",
        "  np.random.shuffle(index)\n",
        "  return index\n",
        "\n",
        "def y__(m):\n",
        "    \"\"\"\n",
        "    Generate risk factors life time\n",
        "\n",
        "    :param m: number of risk factors\n",
        "    \"\"\"\n",
        "    if m == 0:\n",
        "      return float('inf')\n",
        "    else:\n",
        "      return min(np.random.exponential(1, m))\n",
        "\n",
        "def simulateData(labels, sampleIndex, phi, c_low = 0.1, theta = [0.1, 0.8, 1.5, 2.0, 2.5], poisson = False):\n",
        "\n",
        "  n = len(sampleIndex)\n",
        "  x = labels[sampleIndex]\n",
        "  thetas = theta__(x, theta)\n",
        "\n",
        "  # generate number of risk factors (M)\n",
        "  if (poisson):\n",
        "    M = np.random.poisson(lam = thetas, size = n)\n",
        "  else:\n",
        "    M = np.random.negative_binomial(n = 1/phi, p = 1/(1 + phi*thetas), size = n)\n",
        "\n",
        "  # generate survival time (Y)\n",
        "  data = pd.DataFrame(zip(sampleIndex, thetas, M),\n",
        "                          columns = [\"index\", \"theta\", \"m\"])\n",
        "  data['y'] = data['m'].map(y__)\n",
        "\n",
        "  y1 = data[data[\"y\"] != float('inf')][\"y\"]\n",
        "  fig, ax = plt.subplots(figsize =(8,4))\n",
        "  ax.hist(y1.values, bins =20)\n",
        "  ax.set_title(\"Distribution of survival times\")\n",
        "  plt.figtext(0.5,0.5, y1.describe().to_string())\n",
        "  plt.show()\n",
        "\n",
        "  # generate censoring time (C)\n",
        "  data['c'] = np.random.uniform(low = c_low, high = np.ceil(np.max(y1.values)) + 0.5, size = n)\n",
        "\n",
        "  data = data.assign(t = lambda x: np.minimum(x.y.values, x.c.values))\n",
        "\n",
        "  data['delta'] = np.where(data.t < data.c, 1, 0)\n",
        "  # data['t'] = np.where(data.t > 3, 3, data.t)\n",
        "\n",
        "  return(data)"
      ]
    }
  ]
}